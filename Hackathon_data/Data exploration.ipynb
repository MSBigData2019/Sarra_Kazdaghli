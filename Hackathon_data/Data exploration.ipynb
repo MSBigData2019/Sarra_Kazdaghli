{
 "cells": [
  {
   "cell_type": "code",
   "execution_count": 3,
   "metadata": {},
   "outputs": [],
   "source": [
    "# to import\n",
    "import pandas as pd\n",
    "import matplotlib.pyplot as plt\n",
    "import numpy as np\n",
    "import seaborn as sns\n",
    "from scipy import stats\n",
    "from fancyimpute import KNN "
   ]
  },
  {
   "cell_type": "markdown",
   "metadata": {},
   "source": [
    "### Variable Identification"
   ]
  },
  {
   "cell_type": "markdown",
   "metadata": {},
   "source": [
    "This step is to identify:\n",
    "- Input\n",
    "- Output : to predict\n",
    "- Types of variables"
   ]
  },
  {
   "cell_type": "markdown",
   "metadata": {},
   "source": [
    "### Analysis variable by variable : univariate"
   ]
  },
  {
   "cell_type": "markdown",
   "metadata": {},
   "source": [
    "#### 1- continuous "
   ]
  },
  {
   "cell_type": "markdown",
   "metadata": {},
   "source": [
    "##### ways to explore the variable alone\n",
    "df.describe() #--> for each variable describe (mean, std, max, min etc)\n",
    "plt.hist(df[variable]) #--> will plot the distribution of the variable\n"
   ]
  },
  {
   "cell_type": "markdown",
   "metadata": {},
   "source": [
    "#### 2- categorical "
   ]
  },
  {
   "cell_type": "markdown",
   "metadata": {},
   "source": [
    "df.count() --> tout le tableau\n",
    "df.groupBy('variable').count() --> selon une seule variable\n",
    "\n",
    "tips = sns.load_dataset(\"tips\")\n",
    "sns.catplot(x=\"day\", y=\"total_bill\", data=tips); --> for more infos: https://seaborn.pydata.org/tutorial/categorical.html\n"
   ]
  },
  {
   "cell_type": "markdown",
   "metadata": {},
   "source": [
    "### Bivariate analysis: relationships between variables"
   ]
  },
  {
   "cell_type": "markdown",
   "metadata": {},
   "source": [
    "##### Draw the correlations/ covariances between variables:\n",
    "scatter_matrix(df, alpha = 0.2, figsize = (6, 6)) == sns.pairplot(df, hue='thing', size=2.5)\n",
    "\n",
    "plt.suptitle('scatter-matrix for 4 covariantes of the data set') \n",
    "\n",
    "plt.show()\n",
    "\n",
    "Plus d'infos : https://jakevdp.github.io/PythonDataScienceHandbook/04.14-visualization-with-seaborn.html\n",
    "\n",
    "##### Compute the correlation matrix\n",
    "corr = df.corr()\n",
    "##### Generate a custom diverging colormap\n",
    "cmap = sns.diverging_palette(220, 10, as_cmap=True)\n",
    "\n",
    "##### Draw the heatmap with the mask and correct aspect ratio\n",
    "sns.heatmap(corr, cmap=cmap, vmax=.3, center=0,\n",
    "            square=True, linewidths=.5, cbar_kws={\"shrink\": .5})"
   ]
  },
  {
   "cell_type": "markdown",
   "metadata": {},
   "source": [
    "#### Between categorical variables\n",
    "##### 1- Two way table:  http://hamelg.blogspot.com/2015/11/python-for-data-analysis-part-19_17.html\n",
    "for two variables, draw the table of counts \n",
    "\n",
    "two_way_table = pd.crosstab(index=df[\"column1\"], \n",
    "                           columns=df[\"column2\"])\n",
    "                           \n",
    "two_way_table.index= [\"v1_column1\",\"v2_column1\"]\n",
    "\n",
    "#### 2- Stacked Column Chart: visualize the two_way_table : https://matplotlib.org/gallery/lines_bars_and_markers/bar_stacked.html\n",
    "N = 5\n",
    "menMeans = (20, 35, 30, 35, 27)\n",
    "womenMeans = (25, 32, 34, 20, 25)\n",
    "menStd = (2, 3, 4, 1, 2)\n",
    "womenStd = (3, 5, 2, 3, 3)\n",
    "ind = np.arange(N)    # the x locations for the groups\n",
    "width = 0.35       # the width of the bars: can also be len(x) sequence\n",
    "\n",
    "p1 = plt.bar(ind, menMeans, width, yerr=menStd)\n",
    "p2 = plt.bar(ind, womenMeans, width,\n",
    "             bottom=menMeans, yerr=womenStd)\n",
    "         \n",
    "#### 3-Chi-Square Test: https://towardsdatascience.com/running-chi-square-tests-in-python-with-die-roll-data-b9903817c51b\n",
    "through this test, we see if we can generalize the relationship between variables for larger population\n",
    "\n",
    "It tests the difference between an expected distribution and an actual one:\n",
    "\n",
    "stats.chi2_contingency(dice)\n",
    "\n"
   ]
  },
  {
   "cell_type": "markdown",
   "metadata": {},
   "source": [
    "#### categorical and continous variables --  to understand more"
   ]
  },
  {
   "cell_type": "markdown",
   "metadata": {},
   "source": [
    "### Missing Value Treatment: https://medium.com/ibm-data-science-experience/missing-data-conundrum-exploration-and-imputation-techniques-9f40abe0fd87 \n",
    "http://scikit-learn.org/stable/modules/generated/sklearn.preprocessing.Imputer.html "
   ]
  },
  {
   "cell_type": "markdown",
   "metadata": {},
   "source": [
    "df.dropna()\n",
    "\n",
    "- Replace missing values by mean or median of non-missing values or equivalent value (take the value for men to women)\n",
    "\n",
    "- Use a prediction model: regression etc\n",
    "\n",
    "- KNN imputation: the points similar to the attribute --> be ware: very time consuming :\n",
    "X_filled_knn = KNN(k=3).complete(X_incomplete)\n"
   ]
  }
 ],
 "metadata": {
  "kernelspec": {
   "display_name": "Python 3",
   "language": "python",
   "name": "python3"
  },
  "language_info": {
   "codemirror_mode": {
    "name": "ipython",
    "version": 3
   },
   "file_extension": ".py",
   "mimetype": "text/x-python",
   "name": "python",
   "nbconvert_exporter": "python",
   "pygments_lexer": "ipython3",
   "version": "3.6.5"
  }
 },
 "nbformat": 4,
 "nbformat_minor": 2
}
